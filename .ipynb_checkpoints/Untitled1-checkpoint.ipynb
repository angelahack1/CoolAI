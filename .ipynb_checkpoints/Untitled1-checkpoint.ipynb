{
 "cells": [
  {
   "cell_type": "code",
   "execution_count": 1,
   "id": "f6031a45-67bc-471c-8d99-d5ff7fed5428",
   "metadata": {},
   "outputs": [],
   "source": [
    "from numba import jit"
   ]
  },
  {
   "cell_type": "code",
   "execution_count": 3,
   "id": "f851d806-c1e9-4770-a27a-9a3bfd62f91b",
   "metadata": {},
   "outputs": [],
   "source": [
    "@jit(nopython=True)\n",
    "def quicksort(arr, low, high):\n",
    "    if low < high:\n",
    "        # Partition the array\n",
    "        pi = partition(arr, low, high)\n",
    "        # Recursively sort the sub-arrays\n",
    "        quicksort(arr, low, pi - 1)\n",
    "        quicksort(arr, pi + 1, high)"
   ]
  },
  {
   "cell_type": "code",
   "execution_count": null,
   "id": "48c2c258-9622-49f0-90fe-dd5bbb573337",
   "metadata": {},
   "outputs": [],
   "source": []
  }
 ],
 "metadata": {
  "kernelspec": {
   "display_name": "Python 3 (ipykernel)",
   "language": "python",
   "name": "python3"
  },
  "language_info": {
   "codemirror_mode": {
    "name": "ipython",
    "version": 3
   },
   "file_extension": ".py",
   "mimetype": "text/x-python",
   "name": "python",
   "nbconvert_exporter": "python",
   "pygments_lexer": "ipython3",
   "version": "3.10.13"
  }
 },
 "nbformat": 4,
 "nbformat_minor": 5
}
