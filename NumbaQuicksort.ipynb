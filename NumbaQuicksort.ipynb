{
 "cells": [
  {
   "cell_type": "code",
   "execution_count": 1,
   "id": "f6031a45-67bc-471c-8d99-d5ff7fed5428",
   "metadata": {},
   "outputs": [],
   "source": [
    "from numba import jit"
   ]
  },
  {
   "cell_type": "code",
   "execution_count": 9,
   "id": "f851d806-c1e9-4770-a27a-9a3bfd62f91b",
   "metadata": {},
   "outputs": [],
   "source": [
    "@jit(nopython=True)\n",
    "def quicksort(arr, low, high):\n",
    "    if low < high:\n",
    "        # Partition the array\n",
    "        pi = partition(arr, low, high)\n",
    "        # Recursively sort the sub-arrays\n",
    "        quicksort(arr, low, pi - 1)\n",
    "        quicksort(arr, pi + 1, high)"
   ]
  },
  {
   "cell_type": "code",
   "execution_count": 10,
   "id": "48c2c258-9622-49f0-90fe-dd5bbb573337",
   "metadata": {},
   "outputs": [],
   "source": [
    "@jit(nopython=True)\n",
    "def partition(arr, low, high):\n",
    "    pivot = arr[high]\n",
    "    i = low - 1\n",
    "    for j in range(low, high):\n",
    "        if arr[j] < pivot:\n",
    "            i += 1\n",
    "            arr[i], arr[j] = arr[j], arr[i]\n",
    "    arr[i + 1], arr[high] = arr[high], arr[i + 1]\n",
    "    return i + 1"
   ]
  },
  {
   "cell_type": "code",
   "execution_count": 14,
   "id": "446d1d24-5a73-404a-ae44-c8062401fb96",
   "metadata": {},
   "outputs": [
    {
     "name": "stdout",
     "output_type": "stream",
     "text": [
      "Original array: [10, 7, 8, 9, 1, 5, 1, 2, 4, 6, 8, 4, 7, 3, 6, 3, 6, 2, 5, 2, 5, 2, 6, 2, 76, 3, 8, 8]\n",
      "Sorted array: [1, 1, 2, 2, 2, 2, 2, 3, 3, 3, 4, 4, 5, 5, 5, 6, 6, 6, 6, 7, 7, 8, 8, 8, 8, 9, 10, 76]\n"
     ]
    }
   ],
   "source": [
    "arr = [10, 7, 8, 9, 1, 5, 1,2,4,6,8,4,7,3,6,3,6,2,5,2,5,2,6,2,76,3,8,8]\n",
    "n = len(arr)\n",
    "print(\"Original array:\", arr)\n",
    "quicksort(arr, 0, n - 1)\n",
    "print(\"Sorted array:\", arr)"
   ]
  },
  {
   "cell_type": "code",
   "execution_count": null,
   "id": "ebd6045f-0e3d-4e02-b933-3f0ef3ef8dbb",
   "metadata": {},
   "outputs": [],
   "source": []
  },
  {
   "cell_type": "code",
   "execution_count": null,
   "id": "3b2c8c23-6a0e-4246-8c7d-34d642b0f815",
   "metadata": {},
   "outputs": [],
   "source": []
  }
 ],
 "metadata": {
  "kernelspec": {
   "display_name": "Python 3 (ipykernel)",
   "language": "python",
   "name": "python3"
  },
  "language_info": {
   "codemirror_mode": {
    "name": "ipython",
    "version": 3
   },
   "file_extension": ".py",
   "mimetype": "text/x-python",
   "name": "python",
   "nbconvert_exporter": "python",
   "pygments_lexer": "ipython3",
   "version": "3.10.13"
  }
 },
 "nbformat": 4,
 "nbformat_minor": 5
}
