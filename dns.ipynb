{
 "cells": [
  {
   "cell_type": "code",
   "execution_count": 1,
   "id": "8c0c1c4a-fbf2-4330-b02d-c702aa66fad5",
   "metadata": {},
   "outputs": [],
   "source": [
    "import numba"
   ]
  },
  {
   "cell_type": "code",
   "execution_count": 2,
   "id": "3d61c6ca-eb68-486c-8892-928425aa68c5",
   "metadata": {},
   "outputs": [],
   "source": [
    "import scapy"
   ]
  },
  {
   "cell_type": "code",
   "execution_count": 3,
   "id": "9a73b90d-dfa6-4671-8aeb-489c81bf872c",
   "metadata": {},
   "outputs": [],
   "source": [
    "import dns.resolver"
   ]
  },
  {
   "cell_type": "code",
   "execution_count": 4,
   "id": "be84f633-0d2e-40d1-90ab-acf1632486bf",
   "metadata": {},
   "outputs": [],
   "source": [
    "def query_dns_servers(domain):\n",
    "    try:\n",
    "        # Query the DNS servers for the given domain\n",
    "        answers = dns.resolver.resolve(domain, 'NS')\n",
    "        dns_servers = [str(rdata) for rdata in answers]\n",
    "        return dns_servers\n",
    "    except dns.resolver.NoAnswer:\n",
    "        print(f\"No answer found for domain: {domain}\")\n",
    "    except dns.resolver.NXDOMAIN:\n",
    "        print(f\"Domain does not exist: {domain}\")\n",
    "    except Exception as e:\n",
    "        print(f\"An error occurred: {e}\")\n",
    "    return []\n"
   ]
  },
  {
   "cell_type": "code",
   "execution_count": 5,
   "id": "e53baddf-041f-457f-97a1-de86447fbcdc",
   "metadata": {},
   "outputs": [],
   "source": [
    "def query_mail_servers(domain):\n",
    "    try:\n",
    "        # Query the MX servers for the given domain\n",
    "        answers = dns.resolver.resolve(domain, 'MX')\n",
    "        dns_servers = [str(rdata) for rdata in answers]\n",
    "        return dns_servers\n",
    "    except dns.resolver.NoAnswer:\n",
    "        print(f\"No answer found for domain: {domain}\")\n",
    "    except dns.resolver.NXDOMAIN:\n",
    "        print(f\"Domain does not exist: {domain}\")\n",
    "    except Exception as e:\n",
    "        print(f\"An error occurred: {e}\")\n",
    "    return []\n"
   ]
  },
  {
   "cell_type": "code",
   "execution_count": 8,
   "id": "6c095765-ae24-4f81-82a6-2b69c756ebb0",
   "metadata": {},
   "outputs": [],
   "source": [
    "domain = \"banxico.org.mx\"  # Replace with the domain you want to query\n",
    "dns_servers = query_dns_servers(domain)\n",
    "mx_servers = query_mail_servers(domain)"
   ]
  },
  {
   "cell_type": "code",
   "execution_count": 9,
   "id": "d4d2bc9b-7de8-4ade-9e74-9c593c45ccda",
   "metadata": {},
   "outputs": [
    {
     "name": "stdout",
     "output_type": "stream",
     "text": [
      "DNS Servers for banxico.org.mx:\n",
      "extnsc.banxico.org.mx.\n",
      "extnsl.banxico.org.mx.\n",
      "MX Servers for banxico.org.mx:\n",
      "25 mail2.banxico.org.mx.\n",
      "25 mail4.banxico.org.mx.\n"
     ]
    }
   ],
   "source": [
    "print(f\"DNS Servers for {domain}:\")\n",
    "for server in dns_servers:\n",
    "    print(server)\n",
    "print(f\"MX Servers for {domain}:\")\n",
    "for server in mx_servers:\n",
    "    print(server)"
   ]
  },
  {
   "cell_type": "code",
   "execution_count": 10,
   "id": "abffd4e6-b649-4f06-86be-d151ca5f4156",
   "metadata": {},
   "outputs": [
    {
     "name": "stdout",
     "output_type": "stream",
     "text": [
      "PING mail2.banxico.org.mx (170.70.87.23): 56 data bytes\n",
      "^C\n",
      "--- mail2.banxico.org.mx ping statistics ---\n",
      "14 packets transmitted, 0 packets received, 100% packet loss\n"
     ]
    }
   ],
   "source": [
    "!ping mail2.banxico.org.mx"
   ]
  },
  {
   "cell_type": "code",
   "execution_count": 9,
   "id": "fdc7cbe1-a519-475e-a3d8-40395e6cc7cd",
   "metadata": {},
   "outputs": [
    {
     "name": "stdout",
     "output_type": "stream",
     "text": [
      "PING inbound-smtp.us-east-1.amazonaws.com (54.164.173.191): 56 data bytes\n",
      "^C\n",
      "--- inbound-smtp.us-east-1.amazonaws.com ping statistics ---\n",
      "21 packets transmitted, 0 packets received, 100% packet loss\n"
     ]
    }
   ],
   "source": [
    "!ping inbound-smtp.us-east-1.amazonaws.com"
   ]
  }
 ],
 "metadata": {
  "kernelspec": {
   "display_name": "Python 3 (ipykernel)",
   "language": "python",
   "name": "python3"
  },
  "language_info": {
   "codemirror_mode": {
    "name": "ipython",
    "version": 3
   },
   "file_extension": ".py",
   "mimetype": "text/x-python",
   "name": "python",
   "nbconvert_exporter": "python",
   "pygments_lexer": "ipython3",
   "version": "3.10.13"
  }
 },
 "nbformat": 4,
 "nbformat_minor": 5
}
