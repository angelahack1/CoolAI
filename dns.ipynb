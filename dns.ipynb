{
 "cells": [
  {
   "cell_type": "code",
   "execution_count": 1,
   "id": "8c0c1c4a-fbf2-4330-b02d-c702aa66fad5",
   "metadata": {},
   "outputs": [],
   "source": [
    "import numba"
   ]
  },
  {
   "cell_type": "code",
   "execution_count": 5,
   "id": "3d61c6ca-eb68-486c-8892-928425aa68c5",
   "metadata": {},
   "outputs": [],
   "source": [
    "import scapy"
   ]
  },
  {
   "cell_type": "code",
   "execution_count": 1,
   "id": "9a73b90d-dfa6-4671-8aeb-489c81bf872c",
   "metadata": {},
   "outputs": [],
   "source": [
    "import dns.resolver"
   ]
  },
  {
   "cell_type": "code",
   "execution_count": 2,
   "id": "be84f633-0d2e-40d1-90ab-acf1632486bf",
   "metadata": {},
   "outputs": [],
   "source": [
    "def query_dns_servers(domain):\n",
    "    try:\n",
    "        # Query the DNS servers for the given domain\n",
    "        answers = dns.resolver.resolve(domain, 'NS')\n",
    "        dns_servers = [str(rdata) for rdata in answers]\n",
    "        return dns_servers\n",
    "    except dns.resolver.NoAnswer:\n",
    "        print(f\"No answer found for domain: {domain}\")\n",
    "    except dns.resolver.NXDOMAIN:\n",
    "        print(f\"Domain does not exist: {domain}\")\n",
    "    except Exception as e:\n",
    "        print(f\"An error occurred: {e}\")\n",
    "    return []\n"
   ]
  },
  {
   "cell_type": "code",
   "execution_count": 3,
   "id": "6c095765-ae24-4f81-82a6-2b69c756ebb0",
   "metadata": {},
   "outputs": [],
   "source": [
    "domain = \"banxico.org\"  # Replace with the domain you want to query\n",
    "dns_servers = query_dns_servers(domain)"
   ]
  },
  {
   "cell_type": "code",
   "execution_count": 4,
   "id": "d4d2bc9b-7de8-4ade-9e74-9c593c45ccda",
   "metadata": {},
   "outputs": [
    {
     "name": "stdout",
     "output_type": "stream",
     "text": [
      "DNS Servers for banxico.org:\n",
      "ns2.bodis.com.\n",
      "ns1.bodis.com.\n"
     ]
    }
   ],
   "source": [
    "print(f\"DNS Servers for {domain}:\")\n",
    "for server in dns_servers:\n",
    "    print(server)\n"
   ]
  },
  {
   "cell_type": "code",
   "execution_count": 5,
   "id": "abffd4e6-b649-4f06-86be-d151ca5f4156",
   "metadata": {},
   "outputs": [
    {
     "name": "stdout",
     "output_type": "stream",
     "text": [
      "PING ns2.bodis.com (34.48.46.38): 56 data bytes\n",
      "^C\n",
      "--- ns2.bodis.com ping statistics ---\n",
      "12 packets transmitted, 0 packets received, 100% packet loss\n"
     ]
    }
   ],
   "source": [
    "!ping ns2.bodis.com"
   ]
  },
  {
   "cell_type": "code",
   "execution_count": null,
   "id": "fdc7cbe1-a519-475e-a3d8-40395e6cc7cd",
   "metadata": {},
   "outputs": [],
   "source": []
  }
 ],
 "metadata": {
  "kernelspec": {
   "display_name": "Python 3 (ipykernel)",
   "language": "python",
   "name": "python3"
  },
  "language_info": {
   "codemirror_mode": {
    "name": "ipython",
    "version": 3
   },
   "file_extension": ".py",
   "mimetype": "text/x-python",
   "name": "python",
   "nbconvert_exporter": "python",
   "pygments_lexer": "ipython3",
   "version": "3.10.13"
  }
 },
 "nbformat": 4,
 "nbformat_minor": 5
}
